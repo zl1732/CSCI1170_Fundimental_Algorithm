{
 "cells": [
  {
   "cell_type": "markdown",
   "metadata": {},
   "source": [
    "## Compare the Speed in general"
   ]
  },
  {
   "cell_type": "markdown",
   "metadata": {},
   "source": [
    "* insertion sort: $c1\\cdot n^2$\n",
    "* merge sort: $c2\\cdot nlog(n)$\n",
    "\n",
    "Given that c1 << c2, compare the speed of two algorithms.\n",
    "1. when n is small, insertion sort is faster, c is dominating\n",
    "2. when n is large, merge sort is faster, n is dominating"
   ]
  },
  {
   "cell_type": "markdown",
   "metadata": {},
   "source": [
    "# 2.1 Insertion Sort"
   ]
  },
  {
   "cell_type": "markdown",
   "metadata": {},
   "source": [
    "Insertion sort works the way many people sort a hand of\n",
    "playing cards. We start with an empty left hand and the cards face down on the\n",
    "table. We then remove one card at a time from the table and insert it into the\n",
    "correct position in the left hand. To find the correct position for a card, we compare\n",
    "it with each of the cards already in the hand, from right to left,At all times, the cards held in the left hand are sorted, and these cards\n",
    "were originally the top cards of the pile on the table."
   ]
  },
  {
   "cell_type": "code",
   "execution_count": 51,
   "metadata": {
    "collapsed": true
   },
   "outputs": [],
   "source": [
    "list_s = [5,2,4,6,1,3,7,9,8]"
   ]
  },
  {
   "cell_type": "code",
   "execution_count": 56,
   "metadata": {
    "collapsed": false
   },
   "outputs": [],
   "source": [
    "def insertion_sort(list_s):\n",
    "    for j in range(1,len(list_s)):  # range(0,10) 其实是0-9\n",
    "        key = list_s[j]\n",
    "        for i in range(j-1,-2,-1): # compare with the key j-1 to -1, we need -1 to indicate list[-1+1] = first_key, which is , list[0] = 2\n",
    "            if list_s[i]>key and i>=0:\n",
    "                list_s[i+1] = list_s[i] # if greater, move current to right, give space for key\n",
    "            else:\n",
    "                break # find the position of key\n",
    "        list_s[i+1] = key # assign key to the position\n",
    "    return list_s"
   ]
  },
  {
   "cell_type": "code",
   "execution_count": 57,
   "metadata": {
    "collapsed": false
   },
   "outputs": [
    {
     "data": {
      "text/plain": [
       "[1, 2, 3, 4, 5, 6, 7, 8, 9]"
      ]
     },
     "execution_count": 57,
     "metadata": {},
     "output_type": "execute_result"
    }
   ],
   "source": [
    "insertion_sort(list_s)"
   ]
  },
  {
   "cell_type": "code",
   "execution_count": 58,
   "metadata": {
    "collapsed": false
   },
   "outputs": [],
   "source": [
    "def insertion_sort1(list_s):\n",
    "    for j in range(1,len(list_s)):\n",
    "        key = list_s[j]\n",
    "        i = j-1\n",
    "        while (i>=0 and list_s[i]>key):\n",
    "            list_s[i+1]=list_s[i]\n",
    "            i -= 1\n",
    "        list_s[i+1] = key\n",
    "    return list_s"
   ]
  },
  {
   "cell_type": "code",
   "execution_count": 60,
   "metadata": {
    "collapsed": false
   },
   "outputs": [
    {
     "data": {
      "text/plain": [
       "[1, 2, 3, 4, 5, 6, 7, 8, 9]"
      ]
     },
     "execution_count": 60,
     "metadata": {},
     "output_type": "execute_result"
    }
   ],
   "source": [
    "insertion_sort1(list_s)"
   ]
  },
  {
   "cell_type": "markdown",
   "metadata": {},
   "source": [
    "# loop Invariants & Correctness of Insetion Sort "
   ]
  },
  {
   "cell_type": "markdown",
   "metadata": {},
   "source": [
    "### loop Invariants:\n",
    "* At the start of each iteration of the for loop of lines 1–8, the subarray list_s[0:i-1] consists of the elements originally in list_s[0:i-1], but in sorted order.\n"
   ]
  },
  {
   "cell_type": "markdown",
   "metadata": {},
   "source": [
    "#### Initialization\n",
    "It is true prior to the first iteration of the loop\n",
    "#### Maintenance\n",
    "If it is true before an iteration of the loop, it remains true before the\n",
    "next iteration.\n",
    "#### Termination\n",
    "When the loop terminates, the invariant gives us a useful property\n",
    "that helps show that the algorithm is correct."
   ]
  },
  {
   "cell_type": "markdown",
   "metadata": {},
   "source": [
    "# 2.2 Analyzing algorithm"
   ]
  },
  {
   "cell_type": "markdown",
   "metadata": {},
   "source": [
    "best case: O(n)\n",
    "worst case: O(n^2)"
   ]
  },
  {
   "cell_type": "markdown",
   "metadata": {},
   "source": [
    "# Homework1\n",
    "## Name: Zhaopeng Liu\n",
    "## NetID: zl1732"
   ]
  },
  {
   "cell_type": "markdown",
   "metadata": {
    "collapsed": true
   },
   "source": [
    "# Question 1"
   ]
  },
  {
   "cell_type": "code",
   "execution_count": 1,
   "metadata": {
    "collapsed": false
   },
   "outputs": [
    {
     "data": {
      "text/plain": [
       "3"
      ]
     },
     "execution_count": 1,
     "metadata": {},
     "output_type": "execute_result"
    }
   ],
   "source": [
    "a = [1,2,3,8,4,3,2]\n",
    "\n",
    "def find_index1(l):\n",
    "    # initial key(current max) with the first element in the list\n",
    "    # initial result(max index) with the first index in the list\n",
    "    key = l[0]                   # c1*1\n",
    "    result = 0                   # c2*1\n",
    "    for i in range(1, len(l)):   # c3*n\n",
    "        # if current element > current max, update current max and max index\n",
    "        if a[i]>key:             # c4*(n-1)\n",
    "            result = i           # c5*(n-1)\n",
    "            key = l[i]           # c6*(n-1)\n",
    "    return result                # c7*1\n",
    "\n",
    "find_index1(a)"
   ]
  },
  {
   "cell_type": "markdown",
   "metadata": {},
   "source": [
    "### Initialization"
   ]
  },
  {
   "cell_type": "markdown",
   "metadata": {},
   "source": [
    "The for loop start from the second elements, before the loop starts, a[0] in the list is the current max value and 0 is the current max index. This is True because so far we only consider one element in the list. Besides, a[0] is still the original element in the list. Therefore, the loop invariant holds prior to the first iteration."
   ]
  },
  {
   "cell_type": "markdown",
   "metadata": {},
   "source": [
    "### Maintenance"
   ]
  },
  {
   "cell_type": "markdown",
   "metadata": {},
   "source": [
    "The body of the for loop works by comparing the new/next element in the list with current key(current max value), if the new element is larger, update the key and max index. So after each loop, the key and result still hold the current max value and its index, among all the elements it have checked during the loop. Besides, the original list is not modified in the body of this for loop. So in each iteration, the loop invariant maintains."
   ]
  },
  {
   "cell_type": "markdown",
   "metadata": {},
   "source": [
    "### Termination"
   ]
  },
  {
   "cell_type": "markdown",
   "metadata": {},
   "source": [
    "When iteration index is larger than the length of list, which means the iteration comes to the end of the list, the iteration terminates. During the iteration, the algorithm keep track of the largest elements and its index in the list, therefore, when the iteration terminates, we look through all the elements in the list and store the max value in key and store it's index in result. We conclude that the index we find indeed represent the largest value. Hence, the algorithm is correct."
   ]
  },
  {
   "cell_type": "markdown",
   "metadata": {},
   "source": [
    "### Runing Time"
   ]
  },
  {
   "cell_type": "markdown",
   "metadata": {},
   "source": [
    "The best case and the worst case are the same:\n",
    "$$ T(n) = c1 + c2 + c3*n + c4*(n-1) + c5*(n-1) + c6*(n-1) + c7 \\\\\n",
    "=\\Theta(n) $$\n",
    "\n",
    "  "
   ]
  },
  {
   "cell_type": "markdown",
   "metadata": {},
   "source": [
    "# Question 2"
   ]
  },
  {
   "cell_type": "markdown",
   "metadata": {},
   "source": [
    "### Basis:\n",
    "$ L_0 = 2 $, $ L_1 = 1 $\n",
    "then, according to L's formula, when n>1, we have: \n",
    "$$ L_2 = L_1 + L_0 = 3 $$\n",
    "It also satisfy the closed-form expression for the n-th Lucas number:\n",
    "$$ L_2 = (\\frac{1+\\sqrt5}{2})^2 + (1 - \\frac{1+\\sqrt5}{2})^2 \\\\\n",
    "L_2 = \\frac{3}{2} + (1 + \\sqrt5) + \\frac{3}{2} - (1 + \\sqrt5) \\\\\n",
    "L_2 = 3 $$"
   ]
  },
  {
   "cell_type": "markdown",
   "metadata": {},
   "source": [
    "### Induction Hypothesis:\n",
    "Suppose that for a positive integer k, the following equation holds:\n",
    "$$ L_k = (\\frac{1+\\sqrt5}{2})^k + (1 - \\frac{1+\\sqrt5}{2})^k $$\n",
    "$$ L_{k-1} = (\\frac{1+\\sqrt5}{2})^{k-1} + (1 - \\frac{1+\\sqrt5}{2})^{k-1} $$\n",
    "Also, by defination we have:\n",
    "$$ L_k = L_{k-1} + L_{k-2} $$\n"
   ]
  },
  {
   "cell_type": "markdown",
   "metadata": {},
   "source": [
    "### Induction step:\n",
    "since by definition: $$ L_{k+1} = L_{k} + L_{k-1} $$ and $$ L_k = (\\frac{1+\\sqrt5}{2})^k + (1 - \\frac{1+\\sqrt5}{2})^k $$\n",
    "$$ L_{k-1} = (\\frac{1+\\sqrt5}{2})^{k-1} + (1 - \\frac{1+\\sqrt5}{2})^{k-1} $$\n",
    "then for $ L_{k+1} $, we can conclude:\n",
    "$$ L_{k+1} = L_{k} + L_{k-1} $$\n",
    "\n",
    "$$ L_{k+1} = (\\frac{1+\\sqrt5}{2})^k + (1 - \\frac{1+\\sqrt5}{2})^k + (\\frac{1+\\sqrt5}{2})^{k-1} + (1 - \\frac{1+\\sqrt5}{2})^{k-1} $$\n",
    "\n",
    "$$ L_{k+1} = (\\frac{1+\\sqrt5}{2})^{k-1} \\cdot (1+\\frac{1+\\sqrt5}{2}) + (1 - \\frac{1+\\sqrt5}{2})^{k-1} \\cdot (\\frac{1-\\sqrt5}{2}+1)   $$\n",
    "\n",
    "$$ L_{k+1} = (\\frac{1+\\sqrt5}{2})^{k-1} \\cdot (\\frac{3+\\sqrt5}{2}) + (1 - \\frac{1+\\sqrt5}{2})^{k-1} \\cdot (\\frac{3-\\sqrt5}{2})   $$\n",
    "\n",
    "$$ L_{k+1} = (\\frac{1+\\sqrt5}{2})^{k-1} \\cdot (\\frac{1+\\sqrt5}{2})^2 + (1 - \\frac{1+\\sqrt5}{2})^{k-1} \\cdot (1 - \\frac{1+\\sqrt5}{2})^2   $$\n",
    "\n",
    "$$ L_{k+1} = (\\frac{1+\\sqrt5}{2})^{k+1} + (1 - \\frac{1+\\sqrt5}{2})^{k+1} $$\n",
    "which is the given closed form.\n",
    "so we proved that this closed form is correct.\n"
   ]
  },
  {
   "cell_type": "markdown",
   "metadata": {},
   "source": [
    "# Question 3.a"
   ]
  },
  {
   "cell_type": "markdown",
   "metadata": {},
   "source": [
    "To prove $ \\Theta $ is equivalence relation, we need to prove it is reflexive, symmetric and transitive.\n",
    "### Reflexive\n",
    "Given a $ f(n) $, $\\exists c_1, c_2, n_0 $ such that, \n",
    "$$\\forall n\\geq n_0, \\ 0 \\leq c_1f(n)\\leq f(n)\\leq c_2f(n)$$\n",
    "So we conclude that $ \\Theta $ is reflexive.\n",
    "\n",
    "### Symmetry\n",
    "Give that, $f(n) = \\Theta(g(n))$\n",
    "By defination, we have $\\exists c_1, c_2, n_0 $ such that,\n",
    "$$\\forall n\\geq n_0, \\ 0 \\leq c_1g(n)\\leq f(n)\\leq c_2g(n)$$\n",
    "We have the following two inequation by transforming the inequation above,\n",
    "$$g(n)\\leq \\frac{f(n)}{c1}\\leq \\frac{c_2}{c_1}\\cdot g(n) $$\n",
    "$$\\frac{c_1}{c_2}\\cdot g(n)\\leq \\frac{f(n)}{c2}\\leq g(n) $$\n",
    "Then we have,\n",
    "$$ \\frac{f(n)}{c2}\\leq g(n) \\leq \\frac{f(n)}{c1} $$\n",
    "So we can rewrite the inequation, $\\exists c_3 = \\frac{1}{c_2}, c_4 = \\frac{1}{c_1}, n_0 $ such that,\n",
    "$$\\forall n\\geq n_0, \\ 0 \\leq c_3f(n)\\leq g(n)\\leq c_4f(n)$$\n",
    "Which indicates $g(n) = \\Theta(f(n))$ and $ \\Theta $ is symmetry.\n",
    "\n",
    "### Transitive\n",
    "Suppose we have $f(n) = \\Theta(g(n))$ and $g(n) = \\Theta(h(n))$,\n",
    "by defination, we have $\\exists c_1, c_2, n_0, c_3, c_4, n_1 $ such that,\n",
    "$$\\forall n\\geq n_0, \\ 0 \\leq c_1g(n)\\leq f(n)\\leq c_2g(n)$$\n",
    "$$\\forall n\\geq n_1, \\ 0 \\leq c_3h(n)\\leq g(n)\\leq c_4h(n)$$\n",
    "Then, we have,\n",
    "$$\\forall n\\geq n_0, n_1, \\ 0 \\leq c_1c_3h(n) \\leq c_1g(n)\\leq f(n)\\leq c_2g(n) \\leq c_2c_4h(n)$$\n",
    "Which indicates that $f(n) = \\Theta(h(n))$, so  $ \\Theta $ is transitive.\n",
    "\n",
    "Overvall,  $ \\Theta $ is equivalence relation."
   ]
  },
  {
   "cell_type": "markdown",
   "metadata": {},
   "source": [
    "# Question 3.b"
   ]
  },
  {
   "cell_type": "markdown",
   "metadata": {},
   "source": [
    "It's obvious that $ \\frac{1}{2}(f(n)+g(n)) \\leq max(f(n)+g(n)) \\leq f(n)+g(n) $, since $f(n)> 0,\\  g(n)> 0$\n",
    "\n",
    "We can take $c_1 = \\frac{1}{2}$ and $c_2 = 1$, then we have,$\\exists c_1 = \\frac{1}{2}, c_2 = 1, n_0 $ such that,\n",
    "\n",
    "$$\\forall n\\geq n_0,c_1(f(n)+g(n)) \\leq max(f(n)+g(n)) \\leq c_2(f(n)+g(n))$$\n",
    "\n",
    "Which indicates $\\max(f(n),g(n)) = \\Theta(f(n)+g(n)) $. Maximum of two functions is in Θ of their sum."
   ]
  },
  {
   "cell_type": "markdown",
   "metadata": {},
   "source": [
    "# Question 3.c"
   ]
  },
  {
   "cell_type": "markdown",
   "metadata": {},
   "source": [
    "In the last Question we have prove that $ \\Theta $ is reflexive.\n",
    "so in question 3.b, we proved  $\\max(f(n),g(n)) = \\Theta(f(n)+g(n)) $.\n",
    "\n",
    "By reflexive, it indicates that $f(n)+g(n) = \\Theta\\max(f(n),g(n))$.  Sum of two functions is in Θ of their maximum."
   ]
  },
  {
   "cell_type": "markdown",
   "metadata": {},
   "source": [
    "# Question 4"
   ]
  },
  {
   "cell_type": "markdown",
   "metadata": {},
   "source": [
    "### Informal statement:\n",
    "Rank from lowest to highest: constant, logarithmic, linear, linearithmic, polynomial, exponential.\n",
    "\n",
    "### Formal statement:\n",
    "* Constant and Logarithmic\n",
    ">Given constant M, $\\forall c, \\exists n_0 = \\frac{e^{M}}{c}$ such that,\n",
    "$$\\forall n\\geq n_0, 0 \\leq C \\leq clog(n)$$\n",
    "So, $constant = o(log(n))$\n",
    "\n",
    "* Logarithmic and Linear\n",
    "> By L'Hôpital's rule, $n$ and $log(n)$ are differentiable at their domin.\n",
    "$\\lim_{n \\to \\inf} \\frac{log(n)}{n} = \\lim_{n \\to \\inf} \\frac{\\frac{1}{n}}{1} = 0$\n",
    "Which means, $ log(n) = o(n) $\n",
    "\n",
    "* Linear and Linearithmic\n",
    "> By L'Hôpital's rule, $n$ and $nlog(n)$ are differentiable at their domin.\n",
    "$\\lim_{n \\to \\inf} \\frac{n}{nlog(n)} = \\lim_{n \\to \\inf} \\frac{1}{1+log(n)} = 0$\n",
    "Which means, $ n = o(nlog(n)) $\n",
    "\n",
    "* Linearithmic and Polynomial\n",
    "> By L'Hôpital's rule, $n^{constant}$ and $nlog(n)$ are differentiable at their domin.\n",
    "$\\lim_{n \\to \\inf} \\frac{nlog(n)}{n^{constant}} = \\lim_{n \\to \\inf} \\frac{1+log(n)}{n^c\\cdot log(n)} = 0$\n",
    "Which means, $ nlog(n) = o(n^{constant}) $\n",
    "\n",
    "* Polynomial and Exponential\n",
    "> By L'Hôpital's rule, $n^{c_1}$ and $c_2^n$ are differentiable at their domin.\n",
    "$\\lim_{n \\to \\inf} \\frac{n^{c_1}}{c_2^n} = \\lim_{n \\to \\inf} \\frac{c_1n^{c_1}}{c_2^n\\cdot log(c_2)} $\n",
    "Apply L'Hôpital's rule repeatly, we have,\n",
    "$\\lim_{n \\to \\inf} \\frac{n^{c_1}}{c_2^n} = \\lim_{n \\to \\inf} \\frac{c_1!\\cdot 1}{c_2^n \\cdot (log(c_2)^c_1)} = 0$\n",
    "Which means, $ n^{c_1} = o(c_2^n) $"
   ]
  }
 ],
 "metadata": {
  "kernelspec": {
   "display_name": "Python 3",
   "language": "python",
   "name": "python3"
  },
  "language_info": {
   "codemirror_mode": {
    "name": "ipython",
    "version": 3
   },
   "file_extension": ".py",
   "mimetype": "text/x-python",
   "name": "python",
   "nbconvert_exporter": "python",
   "pygments_lexer": "ipython3",
   "version": "3.6.0"
  }
 },
 "nbformat": 4,
 "nbformat_minor": 2
}

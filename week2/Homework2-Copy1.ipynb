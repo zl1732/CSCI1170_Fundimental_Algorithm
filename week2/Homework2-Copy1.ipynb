{
 "cells": [
  {
   "cell_type": "markdown",
   "metadata": {},
   "source": [
    "# Homework 2\n",
    "#### Name: Zhaopeng Liu\n",
    "#### NetId: zl1732"
   ]
  },
  {
   "cell_type": "markdown",
   "metadata": {},
   "source": [
    "# Problem 1.a"
   ]
  },
  {
   "cell_type": "markdown",
   "metadata": {},
   "source": [
    "### a) master theory\n",
    "$ T(n) = 4T(\\frac{n}{3}) + n$\n",
    "\n",
    "For this recurrence, we have a = 4, b = 3, f(n) = n,  and thus we have that $ n^{\\log_b a} = n^{\\log_3 4} = \\omega(n^{1.261})$, since $f(n) = O(n^{\\log_b a - \\epsilon}) $, where $\\epsilon \\approx 0.261 $, we can apply case 1 of the master theorem here, the solution is  $T(n) = \\Theta(n^{\\log_b a}) = \\Theta(n^{\\log_3 4})$"
   ]
  },
  {
   "cell_type": "markdown",
   "metadata": {},
   "source": [
    "### b) substitution proof\n",
    "\n",
    "We will guess $ T(n) \\le cn^{\\log_3{4}} - 3n$. Then we will have:\n",
    "\\begin{align} T(n) & \\le 4\\Big(c(n/3)^{\\log_3{4}} - n\\Big) + n  \\le cn^{\\log_3{4}} - 4n + n  \\le cn^{\\log_3{4}} - 3n \\end{align}\n",
    "We have the correct answer.\n"
   ]
  },
  {
   "cell_type": "markdown",
   "metadata": {},
   "source": [
    "# Problem 1.b"
   ]
  },
  {
   "cell_type": "markdown",
   "metadata": {},
   "source": [
    "### a) master theory\n",
    "$ T(n) = 4T(\\frac{n}{2}) + n^2$\n",
    "\n",
    "For this recurrence, we have a = 4, b = 2, $f(n) = n^2$,  and thus we have that $ n^{\\log_b a} = n^{\\log_2 4} = \\Theta(n^2)$, since $f(n) = n^2 = \\Theta(n^2) = n^{\\log_b a}$, we can apply case 2 of the master theorem here, the solution is  $T(n) = \\Theta(n^{\\log_b a}lg(n)) = \\Theta(n^{\\log_2 4}lg(n)) = \\Theta(n^2lg(n))$"
   ]
  },
  {
   "cell_type": "markdown",
   "metadata": {},
   "source": [
    "### b) substitution proof\n",
    "\n",
    "\n",
    "We will guess $T(n) \\le cn^2lg(n) + n^2$:\n",
    "\\begin{align} T(n) \\le 4(c(\\frac{n}{2})^2lg(n) +(\\frac{n}{2})^2)  + n^2  = cn^2lg(\\frac{n}{2}) + 2n^2 = cn^2lg(n) - cn^2lg(2) + 2n^2 = cn^2lg(n) + (2-clg(2))n^2 \\le cn^2lg(n) + n^2 \\end{align}\n",
    "As long as 2-clg(2) < 1, which is $ c>\\frac{1}{lg(2)} $, we have the correct answer."
   ]
  },
  {
   "cell_type": "markdown",
   "metadata": {},
   "source": [
    "# Problem 1.c"
   ]
  },
  {
   "cell_type": "markdown",
   "metadata": {},
   "source": [
    "### a) master theory\n",
    "$ T(n) = 4T(\\frac{n}{2}) + n^2lg(n)$\n",
    "\n",
    "For this recurrence, we have a = 4, b = 2, $f(n) = n^2lg(n)$,  and thus we have that $ n^{\\log_b a} = n^{\\log_2 4} = \\Theta(n^2)$, since the ratio: $\\frac{f(n)}{n^{\\log_b a}} = \\frac{n^2lg(n)}{n^2} = lg(n) $, f(n) is not polynomially larger, so it falls into the gap between case 2 and case 3, we can't apply the master theorem here"
   ]
  },
  {
   "cell_type": "markdown",
   "metadata": {},
   "source": [
    "### b) substitution proof\n",
    "\n",
    "We will guess $T(n) \\le cn^2\\lg^2{n}$:\n",
    "\n",
    "\\begin{align} T(n)  \\le 4T(n/2) + n^2\\lg{n}  \\le 4c(n/2)^2\\lg^2(n/2) + n^2\\lg{n}  \\le cn^2\\lg(n/2)\\lg{n} - cn^2\\lg(n/2)\\lg{2} + n^2\\lg{n} \\end{align}\n",
    "\n",
    "\\begin{align} T(n)  \\le cn^2\\lg^2{n} - cn^2\\lg{n}\\lg{2} - cn^2\\lg(n/2) + n^2\\lg{n} \\le cn^2\\lg^2{n} + (1 - c)n^2\\lg{n} - cn^2\\lg(n/2) \\le cn^2\\lg^2{n} \\end{align}, as long as $c \\ge 1$\n",
    "\n",
    "We have the correct answer.\n"
   ]
  },
  {
   "cell_type": "markdown",
   "metadata": {},
   "source": [
    "# Problem 2"
   ]
  },
  {
   "cell_type": "markdown",
   "metadata": {},
   "source": [
    "                     T(n)                       -- k * 1\n",
    "                    /  |   \\\n",
    "                  / ...| ... \\\n",
    "                 / ... |  ... \\\n",
    "             T(n-1)...T(n-1)...T(n-1)           -- k * a\n",
    "                .       .       .\n",
    "                .       .       .               -- k * a^2\n",
    "                .       .       .               .\n",
    "                .       .       .               . \n",
    "                .       .       .               .\n",
    "       T(1)... T(1)....T(1)....T(1)...T(1)      -- k * a^(n-1)\n",
    "       \n",
    "     T(0)  T(0)... T(0)....T(0)....T(0)...T(0)  -- c * a^(n)\n",
    "                "
   ]
  },
  {
   "cell_type": "markdown",
   "metadata": {},
   "source": [
    "According to the plot above, $ T(n) = k \\cdot \\sum_{i=0}^{n-1} a^{i} + c\\cdot a^n= k\\cdot \\frac{a^n-1}{a-1} + c \\cdot a^n$"
   ]
  },
  {
   "cell_type": "markdown",
   "metadata": {},
   "source": [
    "# Problem 3\n",
    "## Iterative Binary Search"
   ]
  },
  {
   "cell_type": "code",
   "execution_count": 163,
   "metadata": {
    "collapsed": false
   },
   "outputs": [],
   "source": [
    "def iterBinSearch(A, key):\n",
    "    # list is empty, return -1\n",
    "    if len(A) == 0:\n",
    "        return -1\n",
    "    # list is not empty\n",
    "    else:\n",
    "        lo = 0\n",
    "        hi = len(A)-1\n",
    "        # iteration steps\n",
    "        while lo < hi:\n",
    "            # update the mid index\n",
    "            mid = int((lo+hi)/2)\n",
    "            # find the key\n",
    "            if A[mid] == key:\n",
    "                return mid\n",
    "            # key lies on left side\n",
    "            elif A[mid] > key:\n",
    "                hi = mid\n",
    "            # key lies on right side\n",
    "            elif A[mid] < key:\n",
    "                lo = mid + 1\n",
    "        # not found\n",
    "        return -1"
   ]
  },
  {
   "cell_type": "code",
   "execution_count": 164,
   "metadata": {
    "collapsed": false
   },
   "outputs": [
    {
     "name": "stdout",
     "output_type": "stream",
     "text": [
      "key index:  8\n",
      "key == sorted_A[8]? True\n"
     ]
    }
   ],
   "source": [
    "A = [1,4,5,3,7,88,6,12,34,9,20,30]\n",
    "sorted_A = sorted(A)\n",
    "key = 20\n",
    "result = iterBinSearch(sorted_A,key)\n",
    "print(\"key index: \", result)\n",
    "print(\"key == sorted_A[8]?\",key == sorted_A[8])"
   ]
  },
  {
   "cell_type": "markdown",
   "metadata": {},
   "source": [
    "### Loop Invariant:\n",
    "#### Initialization:\n",
    "Before the iteration start, index lo and hi are respectively the first and the last elements of the list, if the target that we search is in the original list, than it must located in A[lo:hi], if the target is not in the original list, then it's also not located in A[lo:hi]\n",
    "#### Maintenance:\n",
    "If target is less than A[mid], than we update the index hi with mid, then target is located in the shorten list A[lo: mid], If target is larger than A[mid], than we update the index lo with mid+1, then target is located in the shorten list A[mid+1, hi]. If target is not in the list, it's neither in A[lo: mid] or A[mid].\n",
    "#### Termination:\n",
    "The iteration terminated when lo == hi or A[mid] == key. In the case \"lo==hi\", we can think that the list is shorten to length = 1, A[lo:lo(hi)], if the target is in the original list, then it's in A[lo:lo(hi)] and index lo(hi) is the final result, it's correct. if the target is not in the original list, it's not in A[lo:lo(hi)], break out, it's also correct. On the other hand, if iteration terminated with condition A[mid] == key, it means the algorithm find the target and the its index, this is the correct result and the iteration is over. "
   ]
  },
  {
   "cell_type": "markdown",
   "metadata": {},
   "source": [
    "### Runing Time:\n",
    "* In each iteration, split the list, compare A[mid] and Key and other processes take O(1), so each iteration takes O(1)\n",
    "* In first iteration, there's n items remains\n",
    "* In second iteration, there's n/2 items remains\n",
    "* In k iteration there's n/(2^k) items remains\n",
    "The worst case is the key located at the first or last position in a list. then there will be $\\log_{2}n$ iterations, and the runnning time is $\\Theta(log_2 n)$\n"
   ]
  },
  {
   "cell_type": "markdown",
   "metadata": {},
   "source": [
    "# Problem 4\n",
    "## Recursive Binary Search"
   ]
  },
  {
   "cell_type": "code",
   "execution_count": 165,
   "metadata": {
    "collapsed": false
   },
   "outputs": [],
   "source": [
    "def recurBinSearch(A,lo, hi, key):\n",
    "    # list is empty\n",
    "    if len(A) == 0:\n",
    "        return -1\n",
    "    \n",
    "    # recursive is not ended\n",
    "    elif lo < hi:\n",
    "        result = -1\n",
    "        mid = int((lo+hi)/2)\n",
    "        # if find the key, assign the result with its index\n",
    "        if A[mid] == key:\n",
    "            result = mid\n",
    "        # if key lies on left side\n",
    "        elif A[mid] > key:\n",
    "            result = recurBinSearch(A,lo, mid, key)\n",
    "        # if key lies on right side\n",
    "        elif A[mid] < key:\n",
    "            result = recurBinSearch(A,mid+1, hi, key)\n",
    "    return result"
   ]
  },
  {
   "cell_type": "code",
   "execution_count": 166,
   "metadata": {
    "collapsed": false
   },
   "outputs": [
    {
     "name": "stdout",
     "output_type": "stream",
     "text": [
      "key index:  8\n",
      "key == sorted_A[8]? True\n"
     ]
    }
   ],
   "source": [
    "A = [1,4,5,3,7,88,6,12,34,9,20,30]\n",
    "sorted_A = sorted(A)\n",
    "key = 20\n",
    "result = recurBinSearch(sorted_A,0, len(sorted_A)-1, key)\n",
    "print(\"key index: \", result)\n",
    "print(\"key == sorted_A[8]?\",key == sorted_A[8])"
   ]
  },
  {
   "cell_type": "markdown",
   "metadata": {},
   "source": [
    "### Running Time"
   ]
  },
  {
   "cell_type": "markdown",
   "metadata": {},
   "source": [
    "It's clear that the running time is $ T(n) = T(\\frac{n}{2}) + \\Theta(1) $\n",
    "\n",
    "We can see that $ n^{\\log_b a} = n^{\\log_2 1} = \\Theta(1) = f(n)$, we can apply case 2 of the master theorem and conclude that the solution $ T(n) = \\Theta(lg(n)) $."
   ]
  },
  {
   "cell_type": "markdown",
   "metadata": {},
   "source": [
    "# Problem 5"
   ]
  },
  {
   "cell_type": "code",
   "execution_count": 167,
   "metadata": {
    "collapsed": true
   },
   "outputs": [],
   "source": [
    "class CountInversion(object):\n",
    "    def findCrossCount(self, B, C):\n",
    "        i, j = 0, 0\n",
    "        count = 0\n",
    "        merged = []\n",
    "        while i<len(B) and j<len(C):\n",
    "            next = min(B[i], C[j])\n",
    "            print(B, C, next)\n",
    "            merged.append(next)\n",
    "            \n",
    "            # next comes from C, then all remaining elements in B is larger than next\n",
    "            if C[j] == next:\n",
    "                j += 1\n",
    "                count += len(B) - i\n",
    "            # next comes from B\n",
    "            else:\n",
    "                i += 1\n",
    "        # append the remaining elements in either B or C\n",
    "        merged += B[i:] \n",
    "        merged += C[j:]\n",
    "        print(\"i,j:\",i,j,\"B[i:]: \",B[i:],\"C[j:]\",C[j:])\n",
    "        print(merged)\n",
    "        print(\"===================\")\n",
    "        return count, merged\n",
    "    \n",
    "    def mergeSort(self, A, lo, hi):\n",
    "        # base case, return 0 and a list with one elements\n",
    "        if lo == hi:\n",
    "            return 0, A[lo:lo+1]\n",
    "        # recursive steps\n",
    "        mid = int((lo+hi)/2)\n",
    "        # count left list, return count and sorted left list\n",
    "        countLeft, B = self.mergeSort(A, lo, mid)\n",
    "        # count right list, return count and sorted right list\n",
    "        countRight, C = self.mergeSort(A, mid+1, hi)\n",
    "        # count reversion across left and right lists\n",
    "        countCross, merged = self.findCrossCount(B, C)\n",
    "        \n",
    "        # return the sum of three and final merged sorted list\n",
    "        return countLeft + countRight + countCross, merged\n",
    "        \n",
    "        "
   ]
  },
  {
   "cell_type": "code",
   "execution_count": 168,
   "metadata": {
    "collapsed": false
   },
   "outputs": [
    {
     "name": "stdout",
     "output_type": "stream",
     "text": [
      "[1] [5] 1\n",
      "i,j: 1 0 B[i:]:  [] C[j:] [5]\n",
      "[1, 5]\n",
      "===================\n",
      "[1, 5] [3] 1\n",
      "[1, 5] [3] 3\n",
      "i,j: 1 1 B[i:]:  [5] C[j:] []\n",
      "[1, 3, 5]\n",
      "===================\n",
      "[2] [4] 2\n",
      "i,j: 1 0 B[i:]:  [] C[j:] [4]\n",
      "[2, 4]\n",
      "===================\n",
      "[2, 4] [6] 2\n",
      "[2, 4] [6] 4\n",
      "i,j: 2 0 B[i:]:  [] C[j:] [6]\n",
      "[2, 4, 6]\n",
      "===================\n",
      "[1, 3, 5] [2, 4, 6] 1\n",
      "[1, 3, 5] [2, 4, 6] 2\n",
      "[1, 3, 5] [2, 4, 6] 3\n",
      "[1, 3, 5] [2, 4, 6] 4\n",
      "[1, 3, 5] [2, 4, 6] 5\n",
      "i,j: 3 2 B[i:]:  [] C[j:] [6]\n",
      "[1, 2, 3, 4, 5, 6]\n",
      "===================\n"
     ]
    },
    {
     "data": {
      "text/plain": [
       "(4, [1, 2, 3, 4, 5, 6])"
      ]
     },
     "execution_count": 168,
     "metadata": {},
     "output_type": "execute_result"
    }
   ],
   "source": [
    "s = CountInversion()\n",
    "A = [1,5,3,2,4,6]\n",
    "s.mergeSort(A,0,len(A)-1)"
   ]
  },
  {
   "cell_type": "markdown",
   "metadata": {},
   "source": [
    "## Runing Time\n",
    "The running time is $ T(n) = 2T(\\frac{n}{2}) + \\Theta(n) $, where $2T(\\frac{n}{2})$ is the running time for left and right sublist. $\\Theta(n)$ is the running time for findCrossCount function, it taking $\\Theta(n)$ to merge two lists with a sum of n elements, and $\\Theta(1)$ to update the inversion count.\n",
    "\n",
    "We can see that $ n^{\\log_b a} = n^{\\log_2 12} = \\Theta(n) = f(n)$, so we can apply case 2 of the master theorem and conclude that the solution $ T(n) = \\Theta(n^{\\log_b a}lg(n)) =  \\Theta(nlg(n)) $."
   ]
  }
 ],
 "metadata": {
  "kernelspec": {
   "display_name": "Python 3",
   "language": "python",
   "name": "python3"
  },
  "language_info": {
   "codemirror_mode": {
    "name": "ipython",
    "version": 3
   },
   "file_extension": ".py",
   "mimetype": "text/x-python",
   "name": "python",
   "nbconvert_exporter": "python",
   "pygments_lexer": "ipython3",
   "version": "3.6.0"
  }
 },
 "nbformat": 4,
 "nbformat_minor": 2
}

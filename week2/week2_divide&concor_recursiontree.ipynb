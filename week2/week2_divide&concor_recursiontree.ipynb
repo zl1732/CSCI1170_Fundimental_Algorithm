{
 "cells": [
  {
   "cell_type": "markdown",
   "metadata": {},
   "source": [
    "# Divide and Conquor"
   ]
  },
  {
   "cell_type": "markdown",
   "metadata": {},
   "source": [
    "Suppose that our division of the problem yields a subproblems,\n",
    "each of which is 1/b the size of the original. (For merge sort, both a and b are 2,\n",
    "but we shall see many divide-and-conquer algorithms in which $a \\neq b$.) \n",
    "\n",
    "It takes\n",
    "time $ T(\\frac{n}{b}) $ to solve one subproblem of size n/b, and so it takes time $ a\\cdot T(\\frac{n}{b})$\n",
    "to solve a of them. If we take D(n) time to divide the problem into subproblems\n",
    "and C(n) time to combine the solutions to the subproblems into the solution to the\n",
    "original problem, we get the recurrence:\n",
    "$$ T(n) = a\\cdot T(\\frac{n}{b}) + D(n) + C(c) \\ \\ \\ n>c$$ "
   ]
  },
  {
   "cell_type": "markdown",
   "metadata": {},
   "source": [
    "# Mergesort\n",
    "## Running Time: $T(n) = 2T(\\frac{n}{2}) + \\Theta(n)$\n",
    "* divide problem takes O(1)\n",
    "* combine result takes O(n)"
   ]
  },
  {
   "cell_type": "code",
   "execution_count": 4,
   "metadata": {
    "collapsed": true
   },
   "outputs": [],
   "source": [
    "# Pseduo Code:\n",
    "def MergeSort(A, lo, hi): \n",
    "    mid = (lo+hi)/2\n",
    "    B = MergeSort(A, lo, mid)    #---------T(n/2)\n",
    "    C = MergeSort(A, mid+1, hi)  #---------T(n/2)\n",
    "    Merged = merge(B, C)         #---------$\\Theta(n)$"
   ]
  },
  {
   "cell_type": "markdown",
   "metadata": {},
   "source": [
    "**Divide:** The divide step just computes the middle of the subarray, which takes\n",
    "constant time. Thus, $ D(n) = \\Theta(1)$.\n",
    "\n",
    "**Conquer:** We recursively solve two subproblems, each of size n=2, which contributes\n",
    "2*T(n/2) to the running time.\n",
    "\n",
    "**Combine:** We have already noted that the MERGE procedure on an n-element\n",
    "subarray takes time n, and so $ C(n)= \\Theta(n $)."
   ]
  },
  {
   "cell_type": "markdown",
   "metadata": {},
   "source": [
    "# Find Max Profit of Sellin/Buying Stock\n",
    "## 思路：\n",
    "最大的substring只可能在左边一半，右边一半，或者横跨两边\n",
    "所以，算出三者，取最大的即可\n",
    "\n",
    "## runing time：\n",
    "* $ T(n) = 2T(n/2) + \\Theta(n) $\n",
    "* $2T(n/2)$ 是左右两个substring， $\\Theta(n)$ 是找cross部分"
   ]
  },
  {
   "cell_type": "code",
   "execution_count": 54,
   "metadata": {
    "collapsed": false
   },
   "outputs": [],
   "source": [
    "class Solution(object):\n",
    "    def findCross(self, A, lo, mid, hi):\n",
    "        max_left, max_right = -1,-1\n",
    "        left_sum = -10000\n",
    "        sum = 0\n",
    "        for i in range(mid, lo-1, -1):\n",
    "            sum += A[i]\n",
    "            if sum > left_sum:\n",
    "                left_sum = sum\n",
    "                max_left = i\n",
    "                \n",
    "        right_sum = -10000\n",
    "        sum = 0\n",
    "        for j in range(mid+1, hi+1,1):\n",
    "            sum += A[j]\n",
    "            if sum > right_sum:\n",
    "                right_sum = sum\n",
    "                max_right = j\n",
    "        return (max_left, max_right, left_sum+right_sum)\n",
    "    \n",
    "    def findMaxSub(self, A, lo, hi):\n",
    "        if hi == lo:\n",
    "            return (lo, hi, A[lo])\n",
    "        else:\n",
    "            mid = int((lo+hi)/2)\n",
    "            #print(\"lo: \",lo,\"mid: \",mid,\"hi: \",hi)\n",
    "            (left_low, left_high, left_sum) = self.findMaxSub(A, lo, mid)\n",
    "            (right_low, right_high, right_sum) = self.findMaxSub(A, mid+1, hi)\n",
    "            (cross_low, cross_high, cross_sum) = self.findCross(A, lo, mid, hi)\n",
    "            #print(\"======================================\")\n",
    "            #print(\"left: \",left_low, left_high, left_sum)\n",
    "            #print(\"right: \",right_low, right_high, right_sum)\n",
    "            #print(\"cross: \",cross_low, cross_high, cross_sum)\n",
    "            \n",
    "            if left_sum >= right_sum and left_sum >= cross_sum:\n",
    "                return (left_low, left_high, left_sum)\n",
    "            elif right_sum >= left_sum and right_sum >= cross_sum:\n",
    "                return (right_low, right_high, right_sum)\n",
    "            else: \n",
    "                return (cross_low, cross_high, cross_sum)"
   ]
  },
  {
   "cell_type": "code",
   "execution_count": 60,
   "metadata": {
    "collapsed": false
   },
   "outputs": [
    {
     "name": "stdout",
     "output_type": "stream",
     "text": [
      "lo:  0 mid:  3 hi:  6\n",
      "lo:  0 mid:  1 hi:  3\n",
      "lo:  0 mid:  0 hi:  1\n",
      "======================================\n",
      "left:  0 0 1\n",
      "right:  1 1 2\n",
      "cross:  0 1 3\n",
      "lo:  2 mid:  2 hi:  3\n",
      "======================================\n",
      "left:  2 2 -3\n",
      "right:  3 3 4\n",
      "cross:  2 3 1\n",
      "======================================\n",
      "left:  0 1 3\n",
      "right:  3 3 4\n",
      "cross:  0 3 4\n",
      "lo:  4 mid:  5 hi:  6\n",
      "lo:  4 mid:  4 hi:  5\n",
      "======================================\n",
      "left:  4 4 5\n",
      "right:  5 5 6\n",
      "cross:  4 5 11\n",
      "======================================\n",
      "left:  4 5 11\n",
      "right:  6 6 8\n",
      "cross:  4 6 19\n",
      "======================================\n",
      "left:  3 3 4\n",
      "right:  4 6 19\n",
      "cross:  3 6 23\n"
     ]
    },
    {
     "data": {
      "text/plain": [
       "(3, 6, 23)"
      ]
     },
     "execution_count": 60,
     "metadata": {},
     "output_type": "execute_result"
    }
   ],
   "source": [
    "A=[13,-3,-25,20,-3,-16,-23,18,20,-7,12,-5,-22,15,-4,7]\n",
    "B = [1,2,-3,4,5,6,8]\n",
    "s= Solution()\n",
    "s.findMaxSub(B, 0, 6)\n",
    "#s.findCross(A, 0, 10, 16)"
   ]
  },
  {
   "cell_type": "markdown",
   "metadata": {},
   "source": [
    "# 4.3 The substitution method for solving recurrences"
   ]
  },
  {
   "cell_type": "markdown",
   "metadata": {},
   "source": [
    "## 步骤：\n",
    "1. Guess the form of the solution.\n",
    "2. Use mathematical induction to find the constants and show that the solution works.\n",
    "3. Either establish a upper bound or lower bound\n",
    "\n",
    "### Pitfall\n",
    "结果比较很严格！差一点都不行，p85-86\n",
    "proved the exact form"
   ]
  },
  {
   "cell_type": "markdown",
   "metadata": {},
   "source": [
    "### Changing variables"
   ]
  },
  {
   "cell_type": "markdown",
   "metadata": {},
   "source": [
    "替换variable，或者替换方程都可以：\n",
    "\n",
    "m = lg(n)\n",
    "\n",
    "T(2**m) = S(n)"
   ]
  },
  {
   "cell_type": "markdown",
   "metadata": {},
   "source": [
    "# 4.4 The recursion-tree method for solving recurrences"
   ]
  },
  {
   "cell_type": "markdown",
   "metadata": {},
   "source": [
    "注意，两部分： root贡献的时间， leaf贡献的时间"
   ]
  },
  {
   "cell_type": "markdown",
   "metadata": {},
   "source": [
    "# 4.5 The master method for solving recurrences"
   ]
  },
  {
   "cell_type": "markdown",
   "metadata": {},
   "source": [
    "***Theorem 4.1 (Master theorem)***"
   ]
  },
  {
   "cell_type": "markdown",
   "metadata": {},
   "source": [
    "当f(n)落入case1,2或者2,3的间隙时，也就是非poly小于，master method不能用"
   ]
  },
  {
   "cell_type": "code",
   "execution_count": null,
   "metadata": {
    "collapsed": true
   },
   "outputs": [],
   "source": []
  }
 ],
 "metadata": {
  "kernelspec": {
   "display_name": "Python 3",
   "language": "python",
   "name": "python3"
  },
  "language_info": {
   "codemirror_mode": {
    "name": "ipython",
    "version": 3
   },
   "file_extension": ".py",
   "mimetype": "text/x-python",
   "name": "python",
   "nbconvert_exporter": "python",
   "pygments_lexer": "ipython3",
   "version": "3.6.0"
  }
 },
 "nbformat": 4,
 "nbformat_minor": 2
}

{
 "cells": [
  {
   "cell_type": "markdown",
   "metadata": {},
   "source": [
    "# Heapsort\n",
    "\n",
    "### 1. Like merge sort, but unlike insertion sort:\n",
    "    * heapsort’s running time is O(nlg(n)). \n",
    "\n",
    "\n",
    "### 2. Like insertion sort, but unlike merge sort:\n",
    "    * heapsort sorts in place: only a constant number of array elements are stored outside the input array at any time. \n",
    "\n",
    "Thus, heapsort combines the better attributes of the two sorting algorithms we have already discussed.\n",
    "**所以说mergesort的space complexity比heapsort要高，heapsort是constant space complexity.**"
   ]
  },
  {
   "cell_type": "code",
   "execution_count": null,
   "metadata": {
    "collapsed": true
   },
   "outputs": [],
   "source": [
    "\n"
   ]
  }
 ],
 "metadata": {
  "kernelspec": {
   "display_name": "Python 3",
   "language": "python",
   "name": "python3"
  },
  "language_info": {
   "codemirror_mode": {
    "name": "ipython",
    "version": 3
   },
   "file_extension": ".py",
   "mimetype": "text/x-python",
   "name": "python",
   "nbconvert_exporter": "python",
   "pygments_lexer": "ipython3",
   "version": "3.6.0"
  }
 },
 "nbformat": 4,
 "nbformat_minor": 2
}

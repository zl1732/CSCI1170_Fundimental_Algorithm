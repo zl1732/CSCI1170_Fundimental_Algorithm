{
 "cells": [
  {
   "cell_type": "markdown",
   "metadata": {},
   "source": [
    "# 6.1 Heapsort:\n",
    "\n",
    "### 1. Like merge sort, but unlike insertion sort:\n",
    "heapsort’s running time is O(nlg(n)). \n",
    "\n",
    "\n",
    "### 2. Like insertion sort, but unlike merge sort:\n",
    "heapsort sorts in place: only a constant number of array elements are stored outside the input array at any time. \n",
    "\n",
    "* Thus, heapsort combines the better attributes of the two sorting algorithms we have already discussed. 所以说mergesort的space complexity比heapsort要高，heapsort是constant space complexity."
   ]
  },
  {
   "cell_type": "markdown",
   "metadata": {},
   "source": [
    "## Node:\n",
    "\n"
   ]
  },
  {
   "cell_type": "markdown",
   "metadata": {},
   "source": [
    "for a node i, which is the index in the representing array:\n",
    "* Parent: floor(i/2)\n",
    "* Left Child: 2*i\n",
    "* Right Child: 2*i+1"
   ]
  },
  {
   "cell_type": "markdown",
   "metadata": {},
   "source": [
    "## Heaps:\n",
    "* Max Heaps, which we will use in Heapsort\n",
    "$$ A[Parent(i)] \\ge A[i] $$ \n",
    "* Min Heaps, which usually implement priority queue\n",
    "$$ A[Parent(i)] \\le A[i] $$ \n",
    "\n",
    "### Depth: $\\Theta(lg(n))$\n",
    "* height of a node in a heap to be the number of edges on the longest simple downward path from the node to a leaf\n",
    "* the basic operations on heaps run in time at most proportional to the height of the tree and thus take O.lg n/ time."
   ]
  },
  {
   "cell_type": "markdown",
   "metadata": {},
   "source": [
    "## Some Operations:\n",
    "1. MAX-HEAPIFY\n",
    "    1. runs in O.lg n/ time, is the key to maintaining the max-heap property.\n",
    "    \n",
    "2. BUILD-MAX-HEAP\n",
    "    1. runs in linear time, produces a maxheap from an unordered input array.\n",
    "    \n",
    "3. MAX-HEAP-INSERT, HEAP-EXTRACT-MAX, HEAP-INCREASE-KEY, and HEAP-MAXIMUM\n",
    "    1. run in O.lg n/ time, allow the heap data structure to implement a priority queue."
   ]
  },
  {
   "cell_type": "markdown",
   "metadata": {},
   "source": [
    "# 6.2 Maintaining the heap property"
   ]
  },
  {
   "cell_type": "markdown",
   "metadata": {},
   "source": [
    "## MAX-HEAPIFY.\n",
    "Its inputs are an array A and an index i into the array.\n",
    "默认A[i]是需要heapify的，A[i]的左右子节点是heapify好的。"
   ]
  },
  {
   "cell_type": "code",
   "execution_count": 105,
   "metadata": {
    "collapsed": false
   },
   "outputs": [],
   "source": [
    "def maxHeapify(A, i, size):\n",
    "    # return the index of left child and right child\n",
    "    def left(i):\n",
    "        return 2*i+1\n",
    "    def right(i):\n",
    "        return 2*i+2\n",
    "    \n",
    "    l = left(i)\n",
    "    r = right(i)\n",
    "    # update the current index with left child\n",
    "    if l < size and A[l] > A[i]:\n",
    "        largest = l\n",
    "    else:\n",
    "        largest = i\n",
    "    \n",
    "    # update with right child\n",
    "    if r < size and A[r] > A[largest]:\n",
    "        largest = r\n",
    "    \n",
    "    # check the updated child satisfy heap, heapify it.\n",
    "    if largest != i:\n",
    "        temp = A[largest]\n",
    "        A[largest] = A[i]\n",
    "        A[i] = temp\n",
    "        maxHeapify(A, largest, size)"
   ]
  },
  {
   "cell_type": "code",
   "execution_count": 108,
   "metadata": {
    "collapsed": false
   },
   "outputs": [
    {
     "name": "stdout",
     "output_type": "stream",
     "text": [
      "[8, 6, 7, 4, 5, 1, 2, 3]\n",
      "[7, 5, 2]\n"
     ]
    }
   ],
   "source": [
    "A = [1,6,8,4,5,7,2,3]\n",
    "B = [2, 5, 7]\n",
    "maxHeapify(A,0,8)\n",
    "print(A)\n",
    "maxHeapify(B,0,3)\n",
    "print(B)"
   ]
  },
  {
   "cell_type": "markdown",
   "metadata": {},
   "source": [
    "## Running Time:\n",
    "$$T(n)\\le T(\\frac{2n}{3}) + \\Theta(1) $$\n",
    "$$ T(n) = O(height) = O(lg(n))$$\n",
    "* The running time of MAX-HEAPIFY on a subtree of size n rooted at a given node i is the $\\Theta(1)$ time to fix up the relationships among the elements.\n",
    "* the worst case occurs when the bottom level of the tree is exactly half full\n",
    "$$ \\frac{2^n-1}{2^n-1+2^{n-1}} = \\frac{2^{n-1}\\cdot 2-\\frac{1}{2^{n-1}}}{2^{n-1}\\cdot (2+1)-\\frac{1}{2^{n-1}}} = \\frac{2}{3}  $$"
   ]
  },
  {
   "cell_type": "markdown",
   "metadata": {},
   "source": [
    "# 6.3 Building a heap"
   ]
  },
  {
   "cell_type": "code",
   "execution_count": 112,
   "metadata": {
    "collapsed": false
   },
   "outputs": [],
   "source": [
    "def buildMaxHeap(A):\n",
    "    heapSize = len(A)-1\n",
    "    for i in range(int((heapSize-1)/2),-1,-1 ):\n",
    "        maxHeapify(A, i, len(A))"
   ]
  },
  {
   "cell_type": "code",
   "execution_count": 113,
   "metadata": {
    "collapsed": false
   },
   "outputs": [
    {
     "data": {
      "text/plain": [
       "[8, 5, 7, 4, 1, 6, 3, 2]"
      ]
     },
     "execution_count": 113,
     "metadata": {},
     "output_type": "execute_result"
    }
   ],
   "source": [
    "A = [1,2,3,4,5,6,7,8]\n",
    "buildMaxHeap(A)\n",
    "A"
   ]
  },
  {
   "cell_type": "markdown",
   "metadata": {},
   "source": [
    "## Running Time"
   ]
  },
  {
   "cell_type": "markdown",
   "metadata": {},
   "source": [
    "每个级别的都要算一次，乘O(h).\n",
    "   o\n",
    "  / \\\n",
    " o   o       * O(h=1)\n",
    " \n",
    "   o\n",
    "  / \\\n",
    " o   o       \n",
    "/ \\ / \\\n",
    "o o o o      * O(h=2)\n",
    "\n",
    ".\n",
    ".\n",
    "."
   ]
  },
  {
   "cell_type": "markdown",
   "metadata": {},
   "source": [
    "$$ T(n) = O(n)$$"
   ]
  },
  {
   "cell_type": "code",
   "execution_count": 129,
   "metadata": {
    "collapsed": false
   },
   "outputs": [],
   "source": [
    "def heapSort(A):\n",
    "    buildMaxHeap(A)\n",
    "    print(\"Initial Heapification\")\n",
    "    print(A)\n",
    "    print(\"======================================\")\n",
    "    for i in range(len(A)-1, 0, -1):\n",
    "        print(\"i = \",i)\n",
    "        print(A)\n",
    "        temp = A[0]\n",
    "        A[0] = A[i]\n",
    "        A[i] = temp\n",
    "        print(\"after swap, before heapify\")\n",
    "        print(A)\n",
    "        maxHeapify(A, 0, i)\n",
    "        print(\"after heapify\")\n",
    "        print(A)\n",
    "        print(\"======================================\")"
   ]
  },
  {
   "cell_type": "code",
   "execution_count": 130,
   "metadata": {
    "collapsed": true
   },
   "outputs": [],
   "source": [
    "A = [19,2,11,14,7,17,4,3,5,15]"
   ]
  },
  {
   "cell_type": "code",
   "execution_count": 131,
   "metadata": {
    "collapsed": false
   },
   "outputs": [
    {
     "name": "stdout",
     "output_type": "stream",
     "text": [
      "Initial Heapification\n",
      "[19, 15, 17, 14, 7, 11, 4, 3, 5, 2]\n",
      "======================================\n",
      "i =  9\n",
      "[19, 15, 17, 14, 7, 11, 4, 3, 5, 2]\n",
      "after swap, before heapify\n",
      "[2, 15, 17, 14, 7, 11, 4, 3, 5, 19]\n",
      "after heapify\n",
      "[17, 15, 11, 14, 7, 2, 4, 3, 5, 19]\n",
      "======================================\n",
      "i =  8\n",
      "[17, 15, 11, 14, 7, 2, 4, 3, 5, 19]\n",
      "after swap, before heapify\n",
      "[5, 15, 11, 14, 7, 2, 4, 3, 17, 19]\n",
      "after heapify\n",
      "[15, 14, 11, 5, 7, 2, 4, 3, 17, 19]\n",
      "======================================\n",
      "i =  7\n",
      "[15, 14, 11, 5, 7, 2, 4, 3, 17, 19]\n",
      "after swap, before heapify\n",
      "[3, 14, 11, 5, 7, 2, 4, 15, 17, 19]\n",
      "after heapify\n",
      "[14, 7, 11, 5, 3, 2, 4, 15, 17, 19]\n",
      "======================================\n",
      "i =  6\n",
      "[14, 7, 11, 5, 3, 2, 4, 15, 17, 19]\n",
      "after swap, before heapify\n",
      "[4, 7, 11, 5, 3, 2, 14, 15, 17, 19]\n",
      "after heapify\n",
      "[11, 7, 4, 5, 3, 2, 14, 15, 17, 19]\n",
      "======================================\n",
      "i =  5\n",
      "[11, 7, 4, 5, 3, 2, 14, 15, 17, 19]\n",
      "after swap, before heapify\n",
      "[2, 7, 4, 5, 3, 11, 14, 15, 17, 19]\n",
      "after heapify\n",
      "[7, 5, 4, 2, 3, 11, 14, 15, 17, 19]\n",
      "======================================\n",
      "i =  4\n",
      "[7, 5, 4, 2, 3, 11, 14, 15, 17, 19]\n",
      "after swap, before heapify\n",
      "[3, 5, 4, 2, 7, 11, 14, 15, 17, 19]\n",
      "after heapify\n",
      "[5, 3, 4, 2, 7, 11, 14, 15, 17, 19]\n",
      "======================================\n",
      "i =  3\n",
      "[5, 3, 4, 2, 7, 11, 14, 15, 17, 19]\n",
      "after swap, before heapify\n",
      "[2, 3, 4, 5, 7, 11, 14, 15, 17, 19]\n",
      "after heapify\n",
      "[4, 3, 2, 5, 7, 11, 14, 15, 17, 19]\n",
      "======================================\n",
      "i =  2\n",
      "[4, 3, 2, 5, 7, 11, 14, 15, 17, 19]\n",
      "after swap, before heapify\n",
      "[2, 3, 4, 5, 7, 11, 14, 15, 17, 19]\n",
      "after heapify\n",
      "[3, 2, 4, 5, 7, 11, 14, 15, 17, 19]\n",
      "======================================\n",
      "i =  1\n",
      "[3, 2, 4, 5, 7, 11, 14, 15, 17, 19]\n",
      "after swap, before heapify\n",
      "[2, 3, 4, 5, 7, 11, 14, 15, 17, 19]\n",
      "after heapify\n",
      "[2, 3, 4, 5, 7, 11, 14, 15, 17, 19]\n",
      "======================================\n"
     ]
    }
   ],
   "source": [
    "heapSort(A)"
   ]
  },
  {
   "cell_type": "code",
   "execution_count": 118,
   "metadata": {
    "collapsed": false
   },
   "outputs": [
    {
     "data": {
      "text/plain": [
       "[1, 2, 3, 4, 5, 6, 7, 8]"
      ]
     },
     "execution_count": 118,
     "metadata": {},
     "output_type": "execute_result"
    }
   ],
   "source": [
    "A"
   ]
  },
  {
   "cell_type": "markdown",
   "metadata": {},
   "source": [
    "# 6.5 Priority queues"
   ]
  },
  {
   "cell_type": "markdown",
   "metadata": {},
   "source": [
    "As with heaps, priority queues\n",
    "\n",
    "come in two forms: ***max-priority queues*** and ***min-priority queues***."
   ]
  },
  {
   "cell_type": "markdown",
   "metadata": {},
   "source": [
    "### Max-priority queues\n",
    "a data structure for maintaining a set S of elements, each\n",
    "with an associated value called a key. A max-priority queue supports the following\n",
    "operations:\n",
    "* Insert(S,x)\n",
    "* Maximum(S): returns the element of S with the largest key.\n",
    "* Extract-Max(S): removes and returns the element of S with the largest key.\n",
    "* INCREASE-KEY(S,x,k): ncreases the value of element x’s key to the new value k, ***which is assumed to be at least as large as x’s current key value.***\n",
    "\n",
    "\n",
    "* applications:\n",
    "Among their other applications, we can use max-priority queues to schedule\n",
    "jobs on a shared computer. The max-priority queue keeps track of the jobs to\n",
    "be performed and their relative priorities. When a job is finished or interrupted,\n",
    "the scheduler selects the highest-priority job from among those pending by calling\n",
    "EXTRACT-MAX. The scheduler can add a new job to the queue at any time by\n",
    "calling INSERT."
   ]
  },
  {
   "cell_type": "markdown",
   "metadata": {},
   "source": [
    "### Min-priority queue"
   ]
  },
  {
   "cell_type": "markdown",
   "metadata": {},
   "source": [
    "Alternatively, a min-priority queue supports the operations INSERT, MINIMUM,\n",
    "EXTRACT-MIN, and DECREASE-KEY."
   ]
  },
  {
   "cell_type": "code",
   "execution_count": null,
   "metadata": {
    "collapsed": true
   },
   "outputs": [],
   "source": []
  }
 ],
 "metadata": {
  "kernelspec": {
   "display_name": "Python 3",
   "language": "python",
   "name": "python3"
  },
  "language_info": {
   "codemirror_mode": {
    "name": "ipython",
    "version": 3
   },
   "file_extension": ".py",
   "mimetype": "text/x-python",
   "name": "python",
   "nbconvert_exporter": "python",
   "pygments_lexer": "ipython3",
   "version": "3.6.0"
  }
 },
 "nbformat": 4,
 "nbformat_minor": 2
}
